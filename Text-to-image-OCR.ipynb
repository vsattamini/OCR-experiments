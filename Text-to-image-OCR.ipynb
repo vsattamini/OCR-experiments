{
 "cells": [
  {
   "cell_type": "markdown",
   "id": "1a960861",
   "metadata": {},
   "source": [
    "# Text to image - OCR (optical character recognition) experiments"
   ]
  },
  {
   "cell_type": "markdown",
   "id": "c3be2a02",
   "metadata": {},
   "source": [
    "## Main Idea"
   ]
  },
  {
   "cell_type": "markdown",
   "id": "8ee81527",
   "metadata": {},
   "source": [
    "    The goal of this project is to experiment with different ways to implement image-to-text. The motivation is personal, in order to speed up data entry for a team schedule updater. \n",
    "    \n",
    "    The system from where the original text comes from is isolated from other computers, so it's necessary to photograph and re-type the original text in a Trello notebook. Currently, a commercial app is being used, downloaded from the playstore. theapp, however, is full of ads, and the speed of it is lacking. \n",
    "    \n",
    "    There are 2 ways I will attempt to implement here:\n",
    "    - Pytesseract: a ready-to-use package that I will import\n",
    "    - My own model: based on what I learn from using pytesseract, I will attempt to develop my own model. "
   ]
  },
  {
   "cell_type": "markdown",
   "id": "42065a9a",
   "metadata": {},
   "source": [
    "### Pytesseract"
   ]
  },
  {
   "cell_type": "markdown",
   "id": "a58e5de3",
   "metadata": {},
   "source": [
    "Tesseract is a package built for OCR, and can very easily downloaded through pip. It is probably the easiest way to implement OCR in a project, and has support for many languages. Each language package can be download from their github repository, and installed individually. The library comes with english as a default"
   ]
  },
  {
   "cell_type": "markdown",
   "id": "c0ccb2d8",
   "metadata": {},
   "source": [
    "- Tesseract documentation: https://github.com/tesseract-ocr/tessdoc\n",
    "- Tesseract language compatibility by version and code for each language: https://github.com/tesseract-ocr/tessdoc/blob/main/Data-Files-in-different-versions.md\n",
    "- Code to download languages other than english:\n",
    "    - Specific Language (3 letters):\n",
    "            apt-get install tesseract-ocr-YOUR_LANG_CODE\n",
    "    - All languages:\n",
    "            apt-get install tesseract-ocr-all\n",
    "    "
   ]
  },
  {
   "cell_type": "code",
   "execution_count": 1,
   "id": "0b199613",
   "metadata": {},
   "outputs": [],
   "source": [
    "from PIL import Image\n",
    "import pytesseract"
   ]
  },
  {
   "cell_type": "code",
   "execution_count": 1,
   "id": "8e8f2393",
   "metadata": {},
   "outputs": [
    {
     "name": "stdout",
     "output_type": "stream",
     "text": [
      "Type full path to image you want to convert to text\n",
      " (format is with forward slashes):d\n"
     ]
    },
    {
     "ename": "FileNotFoundError",
     "evalue": "[Errno 2] No such file or directory: 'd'",
     "output_type": "error",
     "traceback": [
      "\u001b[0;31m---------------------------------------------------------------------------\u001b[0m",
      "\u001b[0;31mFileNotFoundError\u001b[0m                         Traceback (most recent call last)",
      "\u001b[0;32m/tmp/ipykernel_11453/3002224195.py\u001b[0m in \u001b[0;36m<module>\u001b[0;34m\u001b[0m\n\u001b[1;32m      4\u001b[0m \u001b[0;31m# Format home/vls/code/vsattamini/tst.jpeg from home to the end\u001b[0m\u001b[0;34m\u001b[0m\u001b[0;34m\u001b[0m\u001b[0;34m\u001b[0m\u001b[0m\n\u001b[1;32m      5\u001b[0m \u001b[0mdire\u001b[0m\u001b[0;34m=\u001b[0m\u001b[0minput\u001b[0m\u001b[0;34m(\u001b[0m\u001b[0;34m\"Type full path to image you want to convert to text\\n (format is with forward slashes):\"\u001b[0m\u001b[0;34m)\u001b[0m\u001b[0;34m\u001b[0m\u001b[0;34m\u001b[0m\u001b[0m\n\u001b[0;32m----> 6\u001b[0;31m \u001b[0mim\u001b[0m \u001b[0;34m=\u001b[0m \u001b[0mImage\u001b[0m\u001b[0;34m.\u001b[0m\u001b[0mopen\u001b[0m\u001b[0;34m(\u001b[0m\u001b[0mdire\u001b[0m\u001b[0;34m)\u001b[0m\u001b[0;34m\u001b[0m\u001b[0;34m\u001b[0m\u001b[0m\n\u001b[0m\u001b[1;32m      7\u001b[0m \u001b[0;34m\u001b[0m\u001b[0m\n\u001b[1;32m      8\u001b[0m \u001b[0mlanguage\u001b[0m\u001b[0;34m=\u001b[0m\u001b[0minput\u001b[0m\u001b[0;34m(\u001b[0m\u001b[0;34m\"Type the language of the scanned document (3 letter ID):\"\u001b[0m\u001b[0;34m)\u001b[0m\u001b[0;34m\u001b[0m\u001b[0;34m\u001b[0m\u001b[0m\n",
      "\u001b[0;32m~/.pyenv/versions/3.8.12/envs/lewagon/lib/python3.8/site-packages/PIL/Image.py\u001b[0m in \u001b[0;36mopen\u001b[0;34m(fp, mode, formats)\u001b[0m\n\u001b[1;32m   2951\u001b[0m \u001b[0;34m\u001b[0m\u001b[0m\n\u001b[1;32m   2952\u001b[0m     \u001b[0;32mif\u001b[0m \u001b[0mfilename\u001b[0m\u001b[0;34m:\u001b[0m\u001b[0;34m\u001b[0m\u001b[0;34m\u001b[0m\u001b[0m\n\u001b[0;32m-> 2953\u001b[0;31m         \u001b[0mfp\u001b[0m \u001b[0;34m=\u001b[0m \u001b[0mbuiltins\u001b[0m\u001b[0;34m.\u001b[0m\u001b[0mopen\u001b[0m\u001b[0;34m(\u001b[0m\u001b[0mfilename\u001b[0m\u001b[0;34m,\u001b[0m \u001b[0;34m\"rb\"\u001b[0m\u001b[0;34m)\u001b[0m\u001b[0;34m\u001b[0m\u001b[0;34m\u001b[0m\u001b[0m\n\u001b[0m\u001b[1;32m   2954\u001b[0m         \u001b[0mexclusive_fp\u001b[0m \u001b[0;34m=\u001b[0m \u001b[0;32mTrue\u001b[0m\u001b[0;34m\u001b[0m\u001b[0;34m\u001b[0m\u001b[0m\n\u001b[1;32m   2955\u001b[0m \u001b[0;34m\u001b[0m\u001b[0m\n",
      "\u001b[0;31mFileNotFoundError\u001b[0m: [Errno 2] No such file or directory: 'd'"
     ]
    }
   ],
   "source": [
    "\n",
    "\n",
    "# Format home/vls/code/vsattamini/tst.jpeg from home to the end\n",
    "dire=input(\"Type full path to image you want to convert to text\\n (format is with forward slashes):\")\n",
    "im = Image.open(dire)\n",
    "\n",
    "language=input(\"Type the language of the scanned document (3 letter ID):\")\n",
    "text = pytesseract.image_to_string(im, lang=language)\n",
    "filename=input(\"Type output file name:)\")\n",
    "file1 = open(filename+\"-\"+language+\".txt\",\"w\")\n",
    "file1.write(text)\n",
    "file1.close()\n",
    "print(\"Done!\") "
   ]
  },
  {
   "cell_type": "markdown",
   "id": "1495ede1",
   "metadata": {},
   "source": [
    "### Extra: Full document processing"
   ]
  },
  {
   "cell_type": "markdown",
   "id": "4bd68d58",
   "metadata": {},
   "source": [
    "Another opportunity to use this function presented itself as I was working on the original project. The following section was made as an addendum to the one above. I just needed to be able to send a PDF I found online to my kindle. The PDF wasn't in text, but in scanned images of the original book\n",
    "\n",
    "I first used a 3rd party app to transform my PDF into images, and then looped the above model on the images. I then exported it in plain text and plan to convert it into EPUB to read."
   ]
  },
  {
   "cell_type": "code",
   "execution_count": 2,
   "id": "ac6e5056",
   "metadata": {},
   "outputs": [],
   "source": [
    "# Necessary imports\n",
    "from glob import glob\n",
    "from pdf2image import convert_from_path\n",
    "import os\n",
    "import poppler \n",
    "\n",
    "\n"
   ]
  },
  {
   "cell_type": "code",
   "execution_count": 3,
   "id": "32ce710e",
   "metadata": {},
   "outputs": [],
   "source": [
    "pop_path = os.path.abspath(poppler.__file__)"
   ]
  },
  {
   "cell_type": "code",
   "execution_count": 4,
   "id": "23592f15",
   "metadata": {},
   "outputs": [
    {
     "data": {
      "text/plain": [
       "'/home/vls/.pyenv/versions/3.8.12/envs/lewagon/lib/python3.8/site-packages/poppler/__init__.py'"
      ]
     },
     "execution_count": 4,
     "metadata": {},
     "output_type": "execute_result"
    }
   ],
   "source": [
    "os.path.abspath(poppler.__file__)"
   ]
  },
  {
   "cell_type": "code",
   "execution_count": 5,
   "id": "d67e84d1",
   "metadata": {},
   "outputs": [],
   "source": [
    "from pdf2image.exceptions import (\n",
    "    PDFInfoNotInstalledError,\n",
    "    PDFPageCountError,\n",
    "    PDFSyntaxError\n",
    ")"
   ]
  },
  {
   "cell_type": "code",
   "execution_count": 6,
   "id": "bc65c652",
   "metadata": {},
   "outputs": [],
   "source": [
    "CURRENT_DIRECTORY = os.getcwd()\n",
    "os.environ[\"TOKENIZERS_PARALLELISM\"] = \"false\""
   ]
  },
  {
   "cell_type": "code",
   "execution_count": 7,
   "id": "a6f8bb62",
   "metadata": {},
   "outputs": [],
   "source": [
    "# import module\n",
    "def pdf_to_images(file):\n",
    "    os.mkdir(f'{file}')\n",
    "    pages = convert_from_path(f\"{CURRENT_DIRECTORY}/{file}.pdf\")\n",
    "    for i in range(len(pages)):\n",
    "        pages[i].save(f\"{file}/{file} - Page {i}.jpg\", 'JPEG')"
   ]
  },
  {
   "cell_type": "code",
   "execution_count": 8,
   "id": "a8e89468",
   "metadata": {},
   "outputs": [],
   "source": [
    "def get_paths(file_name):\n",
    "    files = glob(f'{file_name}/*.jpg')\n",
    "    files.sort()\n",
    "    return files"
   ]
  },
  {
   "cell_type": "code",
   "execution_count": 9,
   "id": "a6bfa216",
   "metadata": {},
   "outputs": [],
   "source": [
    "def extract_and_join_jpg(files, final_file_name, langua=\"eng\"):\n",
    "    final_text = []\n",
    "    for i, path in enumerate(files):\n",
    "        dire= CURRENT_DIRECTORY+path\n",
    "        im = Image.open(dire)\n",
    "        text = pytesseract.image_to_string(im, lang=langua)\n",
    "\n",
    "        final_text.append(text)\n",
    "        if i % 10 == 0:\n",
    "            print(f\"Image {i} done,{len(files) - i} images to go...\")\n",
    "    final_text = \" \".join(final_text)\n",
    "    \n",
    "    filename= final_file_name\n",
    "    file1 = open(filename+\"-\"+langua+\".txt\",\"w\")\n",
    "    file1.write(final_text)\n",
    "    file1.close()\n",
    "    return print(\"Done! Check your file\")"
   ]
  },
  {
   "cell_type": "code",
   "execution_count": 10,
   "id": "a1367a4a",
   "metadata": {},
   "outputs": [],
   "source": [
    "def full_extraction_process(file_name, langua='eng'):\n",
    "    pdf_to_images(file_name)\n",
    "    files = get_paths(file_name)\n",
    "    extract_and_join_jpg(files,file_name)\n",
    "    return print('Fuly done')"
   ]
  },
  {
   "cell_type": "code",
   "execution_count": null,
   "id": "973df85c",
   "metadata": {},
   "outputs": [],
   "source": [
    "# Testing on new book\n",
    "full_extraction_process(\"Foucault_Michel_Madness_and_Civilization_A_History_of_Insanity_in_the_Age_of_Reason\")"
   ]
  },
  {
   "cell_type": "code",
   "execution_count": 17,
   "id": "5089a447",
   "metadata": {},
   "outputs": [],
   "source": [
    "os.mkdir('convert_from_path')"
   ]
  },
  {
   "cell_type": "code",
   "execution_count": null,
   "id": "6a77e662",
   "metadata": {},
   "outputs": [],
   "source": [
    "import os"
   ]
  },
  {
   "cell_type": "code",
   "execution_count": null,
   "id": "b45df5a1",
   "metadata": {},
   "outputs": [],
   "source": [
    "\"Foucault_Michel_Madness_and_Civilization_A_History_of_Insanity_in_the_Age_of_Reason\""
   ]
  },
  {
   "cell_type": "markdown",
   "id": "bd8168b1",
   "metadata": {},
   "source": [
    "## Model Creation"
   ]
  },
  {
   "cell_type": "markdown",
   "id": "5fbe7f8b",
   "metadata": {},
   "source": [
    "In the following section, I will attempt to create a model from scratch, training and tuning a model based on papers found in PapersWithCode and Arxiv"
   ]
  },
  {
   "cell_type": "code",
   "execution_count": null,
   "id": "9ee75fa7",
   "metadata": {},
   "outputs": [],
   "source": [
    "# Importing Dataset from Hugging Face\n",
    "from datasets import load_dataset\n",
    "\n",
    "\n",
    "dataset = load_dataset(\"naver-clova-ix/synthdog-en\")"
   ]
  },
  {
   "cell_type": "code",
   "execution_count": null,
   "id": "8d5a6898",
   "metadata": {},
   "outputs": [],
   "source": []
  },
  {
   "cell_type": "code",
   "execution_count": null,
   "id": "c5880436",
   "metadata": {},
   "outputs": [],
   "source": []
  }
 ],
 "metadata": {
  "kernelspec": {
   "display_name": "Python 3 (ipykernel)",
   "language": "python",
   "name": "python3"
  },
  "language_info": {
   "codemirror_mode": {
    "name": "ipython",
    "version": 3
   },
   "file_extension": ".py",
   "mimetype": "text/x-python",
   "name": "python",
   "nbconvert_exporter": "python",
   "pygments_lexer": "ipython3",
   "version": "3.8.12"
  },
  "toc": {
   "base_numbering": 1,
   "nav_menu": {},
   "number_sections": true,
   "sideBar": true,
   "skip_h1_title": false,
   "title_cell": "Table of Contents",
   "title_sidebar": "Contents",
   "toc_cell": false,
   "toc_position": {},
   "toc_section_display": true,
   "toc_window_display": false
  }
 },
 "nbformat": 4,
 "nbformat_minor": 5
}
