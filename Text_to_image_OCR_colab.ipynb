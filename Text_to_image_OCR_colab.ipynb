{
 "cells": [
  {
   "cell_type": "markdown",
   "id": "1a960861",
   "metadata": {
    "id": "1a960861"
   },
   "source": [
    "# Text to image - OCR (optical character recognition) experiments"
   ]
  },
  {
   "cell_type": "markdown",
   "id": "c3be2a02",
   "metadata": {
    "id": "c3be2a02"
   },
   "source": [
    "## Main Idea"
   ]
  },
  {
   "cell_type": "markdown",
   "id": "8ee81527",
   "metadata": {
    "id": "8ee81527"
   },
   "source": [
    "The goal of this project is to experiment with different ways to implement image-to-text. The motivation is personal, in order to speed up data entry for a team schedule updater. \n",
    "    \n",
    "The system from where the original text comes from is isolated from other computers, so it's necessary to photograph and re-type the original text in a Trello notebook. Currently, a commercial app is being used, downloaded from the playstore. theapp, however, is full of ads, and the speed of it is lacking. \n",
    "    \n",
    "There are 2 ways I will attempt to implement here:\n",
    "  - Pytesseract: a ready-to-use package that I will import\n",
    "  - My own model: based on what I learn from using pytesseract, I will attempt to develop my own model. "
   ]
  },
  {
   "cell_type": "markdown",
   "id": "a58e5de3",
   "metadata": {
    "id": "a58e5de3"
   },
   "source": [
    "Tesseract is a package built for OCR, and can very easily downloaded through pip. It is probably the easiest way to implement OCR in a project, and has support for many languages. Each language package can be download from their github repository, and installed individually. The library comes with english as a default"
   ]
  },
  {
   "cell_type": "markdown",
   "id": "c0ccb2d8",
   "metadata": {
    "id": "c0ccb2d8"
   },
   "source": [
    "- Tesseract documentation: https://github.com/tesseract-ocr/tessdoc\n",
    "- Tesseract language compatibility by version and code for each language: https://github.com/tesseract-ocr/tessdoc/blob/main/Data-Files-in-different-versions.md\n",
    "- Code to download languages other than english:\n",
    "    - Specific Language (3 letters):\n",
    "            apt-get install tesseract-ocr-YOUR_LANG_CODE\n",
    "    - All languages:\n",
    "            apt-get install tesseract-ocr-all\n",
    "    "
   ]
  },
  {
   "cell_type": "markdown",
   "id": "403326a5",
   "metadata": {},
   "source": [
    "### Package imports and installing requirements"
   ]
  },
  {
   "cell_type": "code",
   "execution_count": null,
   "id": "06b0d429",
   "metadata": {},
   "outputs": [],
   "source": [
    "!pip install -r requirements.txt"
   ]
  },
  {
   "cell_type": "code",
   "execution_count": 2,
   "id": "6a5eb3ce",
   "metadata": {},
   "outputs": [],
   "source": [
    "# Import image and text file manipulation packages\n",
    "from PIL import Image\n",
    "import pytesseract\n",
    "from glob import glob\n",
    "import os\n",
    "import re\n",
    "import pandoc"
   ]
  },
  {
   "cell_type": "code",
   "execution_count": null,
   "id": "IsyDvmjxcHPd",
   "metadata": {
    "colab": {
     "base_uri": "https://localhost:8080/"
    },
    "executionInfo": {
     "elapsed": 15074,
     "status": "ok",
     "timestamp": 1678390698283,
     "user": {
      "displayName": "Victor Löfgren",
      "userId": "16576522153105872068"
     },
     "user_tz": 180
    },
    "id": "IsyDvmjxcHPd",
    "outputId": "8701e25b-35e0-4e50-8b6e-0d34d0ffd312"
   },
   "outputs": [],
   "source": [
    "# For google Colab, qhich requires installation on a specific instance\n",
    "!apt update\n",
    "!apt-get install libnss3 libnss3-dev\n",
    "!apt-get install libcairo2-dev libjpeg-dev libgif-dev\n",
    "!apt-get install cmake libblkid-dev e2fslibs-dev libboost-all-dev libaudit-dev\n",
    "\n",
    "!wget https://poppler.freedesktop.org/poppler-21.09.0.tar.xz;\n",
    "!tar -xvf poppler-21.09.0.tar.xz;\n",
    "\n",
    "!mkdir -p poppler-21.09.0/build && \\"
   ]
  },
  {
   "cell_type": "code",
   "execution_count": null,
   "id": "9GY8_o8ejaiz",
   "metadata": {
    "colab": {
     "base_uri": "https://localhost:8080/"
    },
    "executionInfo": {
     "elapsed": 2867,
     "status": "ok",
     "timestamp": 1678390701136,
     "user": {
      "displayName": "Victor Löfgren",
      "userId": "16576522153105872068"
     },
     "user_tz": 180
    },
    "id": "9GY8_o8ejaiz",
    "outputId": "b219bd70-a177-4916-9cc1-50c486933c3f"
   },
   "outputs": [],
   "source": [
    "# for colab\n",
    "!  apt-get install tesseract-ocr-all"
   ]
  },
  {
   "cell_type": "code",
   "execution_count": null,
   "id": "9h4FdLOIdNgn",
   "metadata": {
    "colab": {
     "base_uri": "https://localhost:8080/"
    },
    "executionInfo": {
     "elapsed": 6243,
     "status": "ok",
     "timestamp": 1678390707373,
     "user": {
      "displayName": "Victor Löfgren",
      "userId": "16576522153105872068"
     },
     "user_tz": 180
    },
    "id": "9h4FdLOIdNgn",
    "outputId": "02fc2efe-af40-4e3b-c8d3-878bc450de1e",
    "scrolled": true
   },
   "outputs": [],
   "source": [
    "# for colab\n",
    "!mkdir -p poppler-21.09.0/build && \\\n",
    "cd poppler-21.09.0 && \\\n",
    "cmake  -DCMAKE_BUILD_TYPE=Release   \\\n",
    "       -DCMAKE_INSTALL_PREFIX=/usr  \\\n",
    "       -DTESTDATADIR=$PWD/testfiles \\\n",
    "       -DENABLE_UNSTABLE_API_ABI_HEADERS=ON && \\\n",
    "make && \\\n",
    "make install\n"
   ]
  },
  {
   "cell_type": "markdown",
   "id": "ce57691f",
   "metadata": {},
   "source": [
    "### Pytesseract - initial experiment"
   ]
  },
  {
   "cell_type": "code",
   "execution_count": null,
   "id": "8e8f2393",
   "metadata": {
    "executionInfo": {
     "elapsed": 5,
     "status": "ok",
     "timestamp": 1678390707776,
     "user": {
      "displayName": "Victor Löfgren",
      "userId": "16576522153105872068"
     },
     "user_tz": 180
    },
    "id": "8e8f2393"
   },
   "outputs": [],
   "source": [
    "# First trial attempt, uncomment to use manually\n",
    "\n",
    "# Format home/vls/code/vsattamini/tst.jpeg from home to the end\n",
    "#dire=input(\"Type full path to image you want to convert to text\\n (format is with forward slashes):\")\n",
    "#im = Image.open(dire)\n",
    "\n",
    "#language=input(\"Type the language of the scanned document (3 letter ID):\")\n",
    "#text = pytesseract.image_to_string(im, lang=language)\n",
    "#filename=input(\"Type output file name:)\")\n",
    "#file1 = open(filename+\"-\"+language+\".txt\",\"w\")\n",
    "#file1.write(text)\n",
    "#file1.close()\n",
    "#print(\"Done!\") "
   ]
  },
  {
   "cell_type": "markdown",
   "id": "1495ede1",
   "metadata": {
    "id": "1495ede1"
   },
   "source": [
    "### Pytesseract - Full document processing"
   ]
  },
  {
   "cell_type": "markdown",
   "id": "4bd68d58",
   "metadata": {
    "id": "4bd68d58"
   },
   "source": [
    "Another opportunity to use this function presented itself as I was working on the original project. The following section was made as an addendum to the one above. I just needed to be able to send a PDF I found online to my kindle. The PDF wasn't in text, but in scanned images of the original book\n",
    "\n",
    "I first used a 3rd party app to transform my PDF into images, and then looped the above model on the images. I then exported it in plain text and plan to convert it into EPUB to read."
   ]
  },
  {
   "cell_type": "code",
   "execution_count": 3,
   "id": "ac6e5056",
   "metadata": {
    "executionInfo": {
     "elapsed": 5,
     "status": "ok",
     "timestamp": 1678390707776,
     "user": {
      "displayName": "Victor Löfgren",
      "userId": "16576522153105872068"
     },
     "user_tz": 180
    },
    "id": "ac6e5056"
   },
   "outputs": [],
   "source": [
    "# Necessary imports\n",
    "from glob import glob\n",
    "from pdf2image import convert_from_path, pdfinfo_from_path\n",
    "import os"
   ]
  },
  {
   "cell_type": "code",
   "execution_count": 3,
   "id": "32ce710e",
   "metadata": {
    "executionInfo": {
     "elapsed": 250,
     "status": "ok",
     "timestamp": 1678390747718,
     "user": {
      "displayName": "Victor Löfgren",
      "userId": "16576522153105872068"
     },
     "user_tz": 180
    },
    "id": "32ce710e"
   },
   "outputs": [],
   "source": [
    "# pop_path = os.path.abspath(poppler.__file__)"
   ]
  },
  {
   "cell_type": "code",
   "execution_count": 4,
   "id": "d67e84d1",
   "metadata": {
    "executionInfo": {
     "elapsed": 3,
     "status": "ok",
     "timestamp": 1678390748270,
     "user": {
      "displayName": "Victor Löfgren",
      "userId": "16576522153105872068"
     },
     "user_tz": 180
    },
    "id": "d67e84d1"
   },
   "outputs": [],
   "source": [
    "from pdf2image.exceptions import (\n",
    "    PDFInfoNotInstalledError,\n",
    "    PDFPageCountError,\n",
    "    PDFSyntaxError\n",
    ")"
   ]
  },
  {
   "cell_type": "code",
   "execution_count": 5,
   "id": "JKsttBaha22B",
   "metadata": {
    "colab": {
     "base_uri": "https://localhost:8080/"
    },
    "executionInfo": {
     "elapsed": 3788,
     "status": "ok",
     "timestamp": 1678390755421,
     "user": {
      "displayName": "Victor Löfgren",
      "userId": "16576522153105872068"
     },
     "user_tz": 180
    },
    "id": "JKsttBaha22B",
    "outputId": "5460ea18-cd4c-4579-b117-f08a5a598dd7"
   },
   "outputs": [
    {
     "ename": "ModuleNotFoundError",
     "evalue": "No module named 'google.colab'",
     "output_type": "error",
     "traceback": [
      "\u001b[0;31m---------------------------------------------------------------------------\u001b[0m",
      "\u001b[0;31mModuleNotFoundError\u001b[0m                       Traceback (most recent call last)",
      "\u001b[0;32m/tmp/ipykernel_8120/4132181067.py\u001b[0m in \u001b[0;36m<module>\u001b[0;34m\u001b[0m\n\u001b[1;32m      1\u001b[0m \u001b[0;31m# For google colab only\u001b[0m\u001b[0;34m\u001b[0m\u001b[0;34m\u001b[0m\u001b[0;34m\u001b[0m\u001b[0m\n\u001b[0;32m----> 2\u001b[0;31m \u001b[0;32mfrom\u001b[0m \u001b[0mgoogle\u001b[0m\u001b[0;34m.\u001b[0m\u001b[0mcolab\u001b[0m \u001b[0;32mimport\u001b[0m \u001b[0mdrive\u001b[0m\u001b[0;34m\u001b[0m\u001b[0;34m\u001b[0m\u001b[0m\n\u001b[0m\u001b[1;32m      3\u001b[0m \u001b[0mdrive\u001b[0m\u001b[0;34m.\u001b[0m\u001b[0mmount\u001b[0m\u001b[0;34m(\u001b[0m\u001b[0;34m'/content/drive'\u001b[0m\u001b[0;34m,\u001b[0m \u001b[0mforce_remount\u001b[0m\u001b[0;34m=\u001b[0m\u001b[0;32mTrue\u001b[0m\u001b[0;34m)\u001b[0m\u001b[0;34m\u001b[0m\u001b[0;34m\u001b[0m\u001b[0m\n\u001b[1;32m      4\u001b[0m \u001b[0;34m\u001b[0m\u001b[0m\n\u001b[1;32m      5\u001b[0m \u001b[0;31m# os.chdir allows you to change directories, like cd in the Terminal\u001b[0m\u001b[0;34m\u001b[0m\u001b[0;34m\u001b[0m\u001b[0;34m\u001b[0m\u001b[0m\n",
      "\u001b[0;31mModuleNotFoundError\u001b[0m: No module named 'google.colab'"
     ]
    }
   ],
   "source": [
    "# For google colab only\n",
    "from google.colab import drive\n",
    "drive.mount('/content/drive', force_remount=True)\n",
    "\n",
    "# os.chdir allows you to change directories, like cd in the Terminal\n",
    "os.chdir('/content/drive/MyDrive/Colab Notebooks')"
   ]
  },
  {
   "cell_type": "code",
   "execution_count": 6,
   "id": "bc65c652",
   "metadata": {
    "executionInfo": {
     "elapsed": 16,
     "status": "ok",
     "timestamp": 1678390755423,
     "user": {
      "displayName": "Victor Löfgren",
      "userId": "16576522153105872068"
     },
     "user_tz": 180
    },
    "id": "bc65c652"
   },
   "outputs": [],
   "source": [
    "# Estabilishing current directory to access and create files\n",
    "CURRENT_DIRECTORY = os.getcwd()\n",
    "os.environ[\"TOKENIZERS_PARALLELISM\"] = \"false\""
   ]
  },
  {
   "cell_type": "code",
   "execution_count": 7,
   "id": "a6f8bb62",
   "metadata": {
    "executionInfo": {
     "elapsed": 16,
     "status": "ok",
     "timestamp": 1678390755425,
     "user": {
      "displayName": "Victor Löfgren",
      "userId": "16576522153105872068"
     },
     "user_tz": 180
    },
    "id": "a6f8bb62"
   },
   "outputs": [],
   "source": [
    "# Original function was incredibly memory intensive and killed the original kernel. Batch processing was implemented and is\n",
    "# highly recommended. \n",
    "def pdf_to_images(file, batch=True, verbose=True):\n",
    "    '''\n",
    "    Converts a pdf file into a series of images, each representing a page in the original file. The objective is to be able to \n",
    "    extract text from photocopies/scans. The core funtion loops through batches of 10 pages and saves these as images in a \n",
    "    folder it creates with the same name as the original file.\n",
    "    ---\n",
    "    file: Name of the pdf file\n",
    "    batch: if the function will process the image in batches or not. Defaults to True which is HIGHLY recommended\n",
    "    verbose: gives updates on the process \n",
    "    '''\n",
    "    os.mkdir(f'{file}')\n",
    "    pdf_name = f\"{file}.pdf\"\n",
    "    info = pdfinfo_from_path(f\"{CURRENT_DIRECTORY}/{pdf_name}\", userpw=None)\n",
    "    maxPages = info[\"Pages\"]\n",
    "    if batch:\n",
    "        for page in range(1, maxPages+1, 10) : \n",
    "            pages = convert_from_path(f\"{CURRENT_DIRECTORY}/{pdf_name}\", dpi=200, first_page=page, last_page = min(page+10-1,maxPages))\n",
    "            for i in range(len(pages)):\n",
    "                pages[i].save(f\"{file}/{file} - Page {page+i}.jpg\", 'JPEG')\n",
    "            if verbose:\n",
    "                print(f'Starting page{page}')\n",
    "    else:\n",
    "        pages = convert_from_path(f\"{CURRENT_DIRECTORY}/{pdf_name}\")\n",
    "        for i in range(len(pages)):\n",
    "            pages[i].save(f\"{file}/{file} - Page {i+1}.jpg\", 'JPEG')\n",
    "            if i % 10 == 0:\n",
    "                print(f'Starting page {page}')\n",
    "    return print('Image Conversion done')"
   ]
  },
  {
   "cell_type": "code",
   "execution_count": 19,
   "id": "a8e89468",
   "metadata": {
    "executionInfo": {
     "elapsed": 16,
     "status": "ok",
     "timestamp": 1678390755426,
     "user": {
      "displayName": "Victor Löfgren",
      "userId": "16576522153105872068"
     },
     "user_tz": 180
    },
    "id": "a8e89468"
   },
   "outputs": [],
   "source": [
    "def get_image_paths(folder_name):\n",
    "    '''\n",
    "    Simple utility function that looks for all the file names for extracted images. It looks in a folder in the same\n",
    "    directory and extracts paths for all jpgs.\n",
    "    ---\n",
    "    folder_name: name of folder you want to look in\n",
    "    '''\n",
    "    files = glob(f'{folder_name}/*.jpg')\n",
    "    files_dict= {}\n",
    "    num_in_title = 0\n",
    "    for letter in folder_name:\n",
    "        if letter.isnumeric():\n",
    "            num_in_title += 1\n",
    "    num_in_title = num_in_title*2\n",
    "    for file in files:\n",
    "        page_number = []\n",
    "        for letter in file:\n",
    "            if letter.isnumeric():\n",
    "                page_number.append(letter)\n",
    "        page_number = \"\".join(page_number)\n",
    "        page_number = page_number[num_in_title:]\n",
    "        page_number = int(page_number)\n",
    "        files_dict[page_number] = file\n",
    "    files_dict_2 = dict(sorted(files_dict.items()))\n",
    "    files = list(files_dict_2.values())            \n",
    "    return files"
   ]
  },
  {
   "cell_type": "code",
   "execution_count": 10,
   "id": "a6bfa216",
   "metadata": {
    "executionInfo": {
     "elapsed": 16,
     "status": "ok",
     "timestamp": 1678390755427,
     "user": {
      "displayName": "Victor Löfgren",
      "userId": "16576522153105872068"
     },
     "user_tz": 180
    },
    "id": "a6bfa216"
   },
   "outputs": [],
   "source": [
    "def extract_and_join_jpg(files, final_file_name, langua=\"eng\", verbose=True):\n",
    "    '''\n",
    "    Takes a list of image paths and extracts the text using tesseract OCR, creating a .txt file.\n",
    "    ---\n",
    "    files: listof image paths\n",
    "    final_file_name: name that is assigned to the .txt file\n",
    "    langua: specifies what language the file is in, which helps tesseract more correctly identify the text\n",
    "    verbose: gives a report on the progress of the text extraction every 10 images\n",
    "    '''\n",
    "    final_text = []\n",
    "    for i, path in enumerate(files):\n",
    "        dire= CURRENT_DIRECTORY+\"/\"+path\n",
    "        im = Image.open(dire)\n",
    "        text = pytesseract.image_to_string(im, lang=langua)\n",
    "        final_text.append(text)\n",
    "        if verbose:\n",
    "            if i % 10 == 0:\n",
    "                print(f\"Image {i} done,{len(files) - i+1} images to go...\")\n",
    "    final_text = \" \".join(final_text)\n",
    "    \n",
    "    file1 = open(final_file_name+\"-\"+langua+\".txt\",\"w\")\n",
    "    file1.write(final_text)\n",
    "    file1.close()\n",
    "    return final_text, print(\".txt Done! Check your files\")"
   ]
  },
  {
   "cell_type": "code",
   "execution_count": 11,
   "id": "JzgGpYq2pZxI",
   "metadata": {
    "executionInfo": {
     "elapsed": 31,
     "status": "ok",
     "timestamp": 1678390759118,
     "user": {
      "displayName": "Victor Löfgren",
      "userId": "16576522153105872068"
     },
     "user_tz": 180
    },
    "id": "JzgGpYq2pZxI"
   },
   "outputs": [],
   "source": [
    "def txt_checker(input_text):\n",
    "    '''\n",
    "    Uses regex to test if string is a .txt file name or path\n",
    "    '''\n",
    "    pattern = re.compile(r\"[A-Za-z0-9]+\\.txt\", re.IGNORECASE)\n",
    "    matching = re.search(pattern, input_text)\n",
    "    if matching:\n",
    "        return True\n",
    "    return False"
   ]
  },
  {
   "cell_type": "code",
   "execution_count": 16,
   "id": "cVx60rYkq-aa",
   "metadata": {
    "executionInfo": {
     "elapsed": 254,
     "status": "ok",
     "timestamp": 1678391559259,
     "user": {
      "displayName": "Victor Löfgren",
      "userId": "16576522153105872068"
     },
     "user_tz": 180
    },
    "id": "cVx60rYkq-aa"
   },
   "outputs": [],
   "source": [
    "def convert_txt(txt, filler_name=None, formats ='epub'):\n",
    "    '''\n",
    "    Takes a string and checks if it is a .txt file. If so, imports the contents of the txt file as a string. If not, assumes\n",
    "    that the string is the main text. it then converts this string into a specified format (default is epub) using pandoc\n",
    "    --- \n",
    "    txt: string\n",
    "    formats: the final format you want to convert the text into. defaults to epub\n",
    "    \n",
    "    '''\n",
    "    if txt_checker(txt):\n",
    "        with open(txt, \"r\") as file:\n",
    "            txt_string = file.read()\n",
    "        txt_string = txt_string.replace(\"-\\n\",\"\")\n",
    "        txt_document = pandoc.read(txt_string)\n",
    "        pandoc.write(doc=txt_document,file=f'{txt[-4]}.epub', formats=formats)\n",
    "    else:\n",
    "        txt_string = txt.replace(\"-\\n\",\"\")\n",
    "        txt_document = pandoc.read(txt_string)\n",
    "        pandoc.write(doc=txt_document,file=f'{filler_name}.epub', format=formats)\n",
    "    return print(f'File saved as {formats}')"
   ]
  },
  {
   "cell_type": "code",
   "execution_count": 17,
   "id": "a1367a4a",
   "metadata": {
    "executionInfo": {
     "elapsed": 30,
     "status": "ok",
     "timestamp": 1678390759120,
     "user": {
      "displayName": "Victor Löfgren",
      "userId": "16576522153105872068"
     },
     "user_tz": 180
    },
    "id": "a1367a4a"
   },
   "outputs": [],
   "source": [
    "def full_extraction_process(file_name, langua='eng', convert=True, formats='epub', batch=True, verbose=True):\n",
    "    '''\n",
    "    Is a function that joins the pdf_to_images, get_image_paths, extract_and_join_jpg functions and (optionally) the \n",
    "    convert_txt function. Transforms a pdf into images, extracts the text from those images, consolidates it into a .txt file\n",
    "    and then optionally converts the .txt file into a diffferent format (defaults to epub)\n",
    "    ---\n",
    "    file_name: the name of the pdf input\n",
    "    langua: the language use in tesseract for OCR\n",
    "    convert: if the text file will be converted or not\n",
    "    formats: format of the final version is there is a conversion. Defaults to epub\n",
    "    batch: if the image exraction will be done in batches of 10\n",
    "    '''\n",
    "    filler_name = file_name\n",
    "    pdf_to_images(file_name, batch=batch,verbose=verbose)\n",
    "    files = get_image_paths(file_name)\n",
    "    final_txt, _ = extract_and_join_jpg(files,file_name,verbose=verbose)\n",
    "    if convert:\n",
    "        convert_txt(final_txt, formats=formats, filler_name=filler_name)\n",
    "    return print('Fully done')"
   ]
  },
  {
   "cell_type": "code",
   "execution_count": 18,
   "id": "973df85c",
   "metadata": {
    "colab": {
     "base_uri": "https://localhost:8080/",
     "height": 328
    },
    "executionInfo": {
     "elapsed": 30,
     "status": "error",
     "timestamp": 1678390759121,
     "user": {
      "displayName": "Victor Löfgren",
      "userId": "16576522153105872068"
     },
     "user_tz": 180
    },
    "id": "973df85c",
    "outputId": "da555c80-396f-4fb4-9f3d-3df04d2eb059"
   },
   "outputs": [
    {
     "name": "stdout",
     "output_type": "stream",
     "text": [
      "Starting page1\n",
      "Starting page11\n",
      "Starting page21\n",
      "Starting page31\n",
      "Starting page41\n",
      "Starting page51\n",
      "Starting page61\n",
      "Starting page71\n",
      "Starting page81\n",
      "Starting page91\n",
      "Starting page101\n",
      "Starting page111\n",
      "Starting page121\n",
      "Starting page131\n",
      "Starting page141\n",
      "Starting page151\n",
      "Starting page161\n",
      "Image Conversion done\n",
      "27\n",
      "68\n",
      "93\n",
      "142\n",
      "153\n",
      "61\n",
      "14\n",
      "5\n",
      "59\n",
      "138\n",
      "92\n",
      "80\n",
      "1\n",
      "76\n",
      "121\n",
      "114\n",
      "90\n",
      "82\n",
      "136\n",
      "84\n",
      "161\n",
      "11\n",
      "158\n",
      "49\n",
      "47\n",
      "16\n",
      "118\n",
      "21\n",
      "83\n",
      "77\n",
      "162\n",
      "151\n",
      "50\n",
      "55\n",
      "64\n",
      "24\n",
      "3\n",
      "113\n",
      "30\n",
      "43\n",
      "104\n",
      "111\n",
      "46\n",
      "160\n",
      "39\n",
      "119\n",
      "134\n",
      "143\n",
      "8\n",
      "37\n",
      "164\n",
      "19\n",
      "17\n",
      "13\n",
      "88\n",
      "25\n",
      "131\n",
      "85\n",
      "108\n",
      "79\n",
      "144\n",
      "122\n",
      "125\n",
      "159\n",
      "42\n",
      "127\n",
      "115\n",
      "149\n",
      "44\n",
      "33\n",
      "141\n",
      "106\n",
      "150\n",
      "102\n",
      "4\n",
      "7\n",
      "12\n",
      "38\n",
      "72\n",
      "71\n",
      "129\n",
      "34\n",
      "89\n",
      "140\n",
      "29\n",
      "31\n",
      "70\n",
      "53\n",
      "75\n",
      "103\n",
      "60\n",
      "36\n",
      "73\n",
      "28\n",
      "137\n",
      "22\n",
      "10\n",
      "32\n",
      "6\n",
      "154\n",
      "81\n",
      "145\n",
      "78\n",
      "117\n",
      "105\n",
      "35\n",
      "97\n",
      "45\n",
      "124\n",
      "98\n",
      "126\n",
      "123\n",
      "95\n",
      "133\n",
      "65\n",
      "9\n",
      "2\n",
      "107\n",
      "146\n",
      "109\n",
      "58\n",
      "74\n",
      "101\n",
      "18\n",
      "91\n",
      "94\n",
      "116\n",
      "156\n",
      "163\n",
      "56\n",
      "100\n",
      "23\n",
      "157\n",
      "87\n",
      "86\n",
      "52\n",
      "128\n",
      "62\n",
      "41\n",
      "54\n",
      "48\n",
      "110\n",
      "69\n",
      "112\n",
      "20\n",
      "120\n",
      "135\n",
      "152\n",
      "155\n",
      "67\n",
      "139\n",
      "40\n",
      "57\n",
      "148\n",
      "66\n",
      "51\n",
      "96\n",
      "15\n",
      "26\n",
      "63\n",
      "130\n",
      "132\n",
      "147\n",
      "99\n",
      "Image 0 done,165 images to go...\n",
      "Image 10 done,155 images to go...\n",
      "Image 20 done,145 images to go...\n",
      "Image 30 done,135 images to go...\n",
      "Image 40 done,125 images to go...\n",
      "Image 50 done,115 images to go...\n",
      "Image 60 done,105 images to go...\n",
      "Image 70 done,95 images to go...\n",
      "Image 80 done,85 images to go...\n",
      "Image 90 done,75 images to go...\n",
      "Image 100 done,65 images to go...\n",
      "Image 110 done,55 images to go...\n",
      "Image 120 done,45 images to go...\n",
      "Image 130 done,35 images to go...\n",
      "Image 140 done,25 images to go...\n",
      "Image 150 done,15 images to go...\n",
      "Image 160 done,5 images to go...\n",
      "Done! Check your file\n",
      "File saved as epub\n",
      "Fully done\n"
     ]
    }
   ],
   "source": [
    "# Testing on new book\n",
    "full_extraction_process(\"foucault-the-history-of-sexuality-volume-1\")"
   ]
  },
  {
   "cell_type": "markdown",
   "id": "bd8168b1",
   "metadata": {
    "id": "bd8168b1"
   },
   "source": [
    "## Model Creation"
   ]
  },
  {
   "cell_type": "markdown",
   "id": "5fbe7f8b",
   "metadata": {
    "id": "5fbe7f8b"
   },
   "source": [
    "In the following section, I will attempt to create a model from scratch, training and tuning a model based on papers found in PapersWithCode and Arxiv"
   ]
  },
  {
   "cell_type": "code",
   "execution_count": null,
   "id": "9ee75fa7",
   "metadata": {
    "executionInfo": {
     "elapsed": 27,
     "status": "aborted",
     "timestamp": 1678390759127,
     "user": {
      "displayName": "Victor Löfgren",
      "userId": "16576522153105872068"
     },
     "user_tz": 180
    },
    "id": "9ee75fa7"
   },
   "outputs": [],
   "source": [
    "# Importing Dataset from Hugging Face\n",
    "from datasets import load_dataset\n",
    "\n",
    "\n",
    "dataset = load_dataset(\"naver-clova-ix/synthdog-en\")"
   ]
  },
  {
   "cell_type": "code",
   "execution_count": null,
   "id": "8d5a6898",
   "metadata": {
    "executionInfo": {
     "elapsed": 27,
     "status": "aborted",
     "timestamp": 1678390759128,
     "user": {
      "displayName": "Victor Löfgren",
      "userId": "16576522153105872068"
     },
     "user_tz": 180
    },
    "id": "8d5a6898"
   },
   "outputs": [],
   "source": []
  },
  {
   "cell_type": "code",
   "execution_count": null,
   "id": "c5880436",
   "metadata": {
    "executionInfo": {
     "elapsed": 27,
     "status": "aborted",
     "timestamp": 1678390759128,
     "user": {
      "displayName": "Victor Löfgren",
      "userId": "16576522153105872068"
     },
     "user_tz": 180
    },
    "id": "c5880436"
   },
   "outputs": [],
   "source": []
  }
 ],
 "metadata": {
  "accelerator": "GPU",
  "colab": {
   "provenance": []
  },
  "gpuClass": "standard",
  "kernelspec": {
   "display_name": "Python 3 (ipykernel)",
   "language": "python",
   "name": "python3"
  },
  "language_info": {
   "codemirror_mode": {
    "name": "ipython",
    "version": 3
   },
   "file_extension": ".py",
   "mimetype": "text/x-python",
   "name": "python",
   "nbconvert_exporter": "python",
   "pygments_lexer": "ipython3",
   "version": "3.8.12"
  },
  "toc": {
   "base_numbering": 1,
   "nav_menu": {},
   "number_sections": true,
   "sideBar": true,
   "skip_h1_title": false,
   "title_cell": "Table of Contents",
   "title_sidebar": "Contents",
   "toc_cell": false,
   "toc_position": {},
   "toc_section_display": true,
   "toc_window_display": false
  }
 },
 "nbformat": 4,
 "nbformat_minor": 5
}
